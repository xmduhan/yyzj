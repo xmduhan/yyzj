{
 "cells": [
  {
   "cell_type": "code",
   "execution_count": 1,
   "metadata": {},
   "outputs": [],
   "source": [
    "import imaplib"
   ]
  },
  {
   "cell_type": "code",
   "execution_count": 2,
   "metadata": {},
   "outputs": [],
   "source": [
    "import email"
   ]
  },
  {
   "cell_type": "code",
   "execution_count": 3,
   "metadata": {},
   "outputs": [],
   "source": [
    "connection = imaplib.IMAP4_SSL(host='imap.chinatelecom.cn', port='993')"
   ]
  },
  {
   "cell_type": "code",
   "execution_count": 4,
   "metadata": {},
   "outputs": [
    {
     "data": {
      "text/plain": [
       "('OK', [b'LOGIN completed'])"
      ]
     },
     "execution_count": 4,
     "metadata": {},
     "output_type": "execute_result"
    }
   ],
   "source": [
    "connection.login('18906021980@chinatelecom.cn','devil_du')"
   ]
  },
  {
   "cell_type": "code",
   "execution_count": 5,
   "metadata": {},
   "outputs": [
    {
     "data": {
      "text/plain": [
       "('OK', [b'1'])"
      ]
     },
     "execution_count": 5,
     "metadata": {},
     "output_type": "execute_result"
    }
   ],
   "source": [
    "connection.select()"
   ]
  },
  {
   "cell_type": "code",
   "execution_count": 6,
   "metadata": {},
   "outputs": [],
   "source": [
    "res, data = connection.search(None, 'ALL')"
   ]
  },
  {
   "cell_type": "code",
   "execution_count": 7,
   "metadata": {},
   "outputs": [
    {
     "data": {
      "text/plain": [
       "('OK', [b'1'])"
      ]
     },
     "execution_count": 7,
     "metadata": {},
     "output_type": "execute_result"
    }
   ],
   "source": [
    "res, data"
   ]
  },
  {
   "cell_type": "code",
   "execution_count": 8,
   "metadata": {},
   "outputs": [],
   "source": [
    "newlist=data[0].split()"
   ]
  },
  {
   "cell_type": "code",
   "execution_count": 9,
   "metadata": {},
   "outputs": [
    {
     "data": {
      "text/plain": [
       "[b'1']"
      ]
     },
     "execution_count": 9,
     "metadata": {},
     "output_type": "execute_result"
    }
   ],
   "source": [
    "newlist"
   ]
  },
  {
   "cell_type": "code",
   "execution_count": 10,
   "metadata": {},
   "outputs": [],
   "source": [
    "type, data = connection.fetch(newlist[0], '(RFC822)')"
   ]
  },
  {
   "cell_type": "code",
   "execution_count": 11,
   "metadata": {},
   "outputs": [],
   "source": [
    "msg = email.message_from_string(data[0][1].decode('gbk')) "
   ]
  },
  {
   "cell_type": "code",
   "execution_count": 12,
   "metadata": {},
   "outputs": [
    {
     "name": "stdout",
     "output_type": "stream",
     "text": [
      "=?utf-8?b?5paw6KOF6LSo6YeP5riF5Y2VWzIwMTgtMDktMTld?=\n"
     ]
    }
   ],
   "source": [
    "sub = msg.get('subject')\n",
    "print(sub)"
   ]
  },
  {
   "cell_type": "code",
   "execution_count": null,
   "metadata": {},
   "outputs": [],
   "source": []
  },
  {
   "cell_type": "code",
   "execution_count": 13,
   "metadata": {},
   "outputs": [
    {
     "name": "stdout",
     "output_type": "stream",
     "text": [
      "content_type: text/html\n",
      "default_type: text/plain\n",
      "content_maintype: text\n",
      "content_subtype: html\n",
      "filename: None\n",
      "disposition: None\n",
      "----------------------------\n",
      "content_type: text/base64\n",
      "default_type: text/plain\n",
      "content_maintype: text\n",
      "content_subtype: base64\n",
      "filename: 新装ITV清单.xls\n",
      "disposition: attachment\n",
      "----------------------------\n",
      "content_type: text/base64\n",
      "default_type: text/plain\n",
      "content_maintype: text\n",
      "content_subtype: base64\n",
      "filename: 新装宽带清单.xls\n",
      "disposition: attachment\n",
      "----------------------------\n",
      "content_type: text/base64\n",
      "default_type: text/plain\n",
      "content_maintype: text\n",
      "content_subtype: base64\n",
      "filename: 新装融合清单.xls\n",
      "disposition: attachment\n",
      "----------------------------\n"
     ]
    }
   ],
   "source": [
    "for part in msg.walk():\n",
    "    # 如果ture的话内容是没用的\n",
    "    if not part.is_multipart():      \n",
    "        print('content_type:', part.get_content_type())\n",
    "        print('default_type:', part.get_default_type())\n",
    "        print('content_maintype:', part.get_content_maintype())\n",
    "        print('content_subtype:', part.get_content_subtype())\n",
    "        print('filename:', part.get_filename())\n",
    "        print('disposition:', part.get_content_disposition())\n",
    "        print('----------------------------')\n",
    "        # print(part.get_payload(decode=True).decode('utf-8')) \n",
    "        # 解码出文本内容，直接输出来就可以了。"
   ]
  },
  {
   "cell_type": "code",
   "execution_count": 14,
   "metadata": {},
   "outputs": [
    {
     "data": {
      "text/plain": [
       "'attachment'"
      ]
     },
     "execution_count": 14,
     "metadata": {},
     "output_type": "execute_result"
    }
   ],
   "source": [
    "part.get_content_disposition()"
   ]
  }
 ],
 "metadata": {
  "kernelspec": {
   "display_name": "Python 3",
   "language": "python",
   "name": "python3"
  },
  "language_info": {
   "codemirror_mode": {
    "name": "ipython",
    "version": 3
   },
   "file_extension": ".py",
   "mimetype": "text/x-python",
   "name": "python",
   "nbconvert_exporter": "python",
   "pygments_lexer": "ipython3",
   "version": "3.6.6"
  }
 },
 "nbformat": 4,
 "nbformat_minor": 2
}
