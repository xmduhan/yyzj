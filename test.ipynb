{
 "cells": [
  {
   "cell_type": "code",
   "execution_count": 1,
   "metadata": {},
   "outputs": [],
   "source": [
    "import py4j\n",
    "from py4j.java_gateway import GatewayParameters, launch_gateway"
   ]
  },
  {
   "cell_type": "code",
   "execution_count": 2,
   "metadata": {},
   "outputs": [],
   "source": [
    "import json"
   ]
  },
  {
   "cell_type": "code",
   "execution_count": 1,
   "metadata": {},
   "outputs": [],
   "source": [
    "from jvm import JavaGateway"
   ]
  },
  {
   "cell_type": "code",
   "execution_count": 2,
   "metadata": {},
   "outputs": [
    {
     "name": "stdout",
     "output_type": "stream",
     "text": [
      "/home/duhan/notebook/yyzj/jvm\n",
      "/home/duhan/notebook/yyzj/jvm/libs/*:/home/duhan/notebook/yyzj/jvm\n"
     ]
    }
   ],
   "source": [
    "gateway = JavaGateway()"
   ]
  },
  {
   "cell_type": "code",
   "execution_count": 3,
   "metadata": {},
   "outputs": [],
   "source": [
    "class JavaGateway(py4j.java_gateway.JavaGateway):\n",
    "    def __init__(self, *args, **kwargs):\n",
    "        port = launch_gateway(classpath='jvm/libs/*:jvm')\n",
    "        super(JavaGateway, self).__init__(gateway_parameters=GatewayParameters(port=port))\n",
    "    def __del__(self):\n",
    "        self.shutdown()"
   ]
  },
  {
   "cell_type": "code",
   "execution_count": 12,
   "metadata": {},
   "outputs": [],
   "source": [
    "bar = 1"
   ]
  },
  {
   "cell_type": "code",
   "execution_count": 18,
   "metadata": {},
   "outputs": [
    {
     "data": {
      "text/plain": [
       "1"
      ]
     },
     "execution_count": 18,
     "metadata": {},
     "output_type": "execute_result"
    }
   ],
   "source": [
    "locals()['']"
   ]
  },
  {
   "cell_type": "code",
   "execution_count": 23,
   "metadata": {},
   "outputs": [
    {
     "data": {
      "text/plain": [
       "'foo is 1'"
      ]
     },
     "execution_count": 23,
     "metadata": {},
     "output_type": "execute_result"
    }
   ],
   "source": [
    "'foo is {bar}'.format(**locals())"
   ]
  },
  {
   "cell_type": "code",
   "execution_count": 4,
   "metadata": {},
   "outputs": [],
   "source": [
    "gateway = JavaGateway()"
   ]
  },
  {
   "cell_type": "code",
   "execution_count": 5,
   "metadata": {},
   "outputs": [],
   "source": [
    "gateway = None"
   ]
  },
  {
   "cell_type": "code",
   "execution_count": 6,
   "metadata": {},
   "outputs": [],
   "source": [
    "#  启动java虚拟机通道\n",
    "# port = launch_gateway(classpath='jvm/libs/*:jvm')\n",
    "gateway.shutdown()"
   ]
  },
  {
   "cell_type": "code",
   "execution_count": 10,
   "metadata": {},
   "outputs": [],
   "source": [
    "gateway.shutdown()"
   ]
  },
  {
   "cell_type": "code",
   "execution_count": 4,
   "metadata": {},
   "outputs": [
    {
     "ename": "AttributeError",
     "evalue": "__enter__",
     "output_type": "error",
     "traceback": [
      "\u001b[0;31m---------------------------------------------------------------------------\u001b[0m",
      "\u001b[0;31mAttributeError\u001b[0m                            Traceback (most recent call last)",
      "\u001b[0;32m<ipython-input-4-ea36723fbf9d>\u001b[0m in \u001b[0;36m<module>\u001b[0;34m\u001b[0m\n\u001b[0;32m----> 1\u001b[0;31m \u001b[0;32mwith\u001b[0m \u001b[0mJavaGateway\u001b[0m\u001b[0;34m(\u001b[0m\u001b[0mgateway_parameters\u001b[0m\u001b[0;34m=\u001b[0m\u001b[0mGatewayParameters\u001b[0m\u001b[0;34m(\u001b[0m\u001b[0mport\u001b[0m\u001b[0;34m=\u001b[0m\u001b[0mlaunch_gateway\u001b[0m\u001b[0;34m(\u001b[0m\u001b[0mclasspath\u001b[0m\u001b[0;34m=\u001b[0m\u001b[0;34m'jvm/libs/*:jvm'\u001b[0m\u001b[0;34m)\u001b[0m\u001b[0;34m)\u001b[0m\u001b[0;34m)\u001b[0m \u001b[0;32mas\u001b[0m \u001b[0mgateway\u001b[0m\u001b[0;34m:\u001b[0m\u001b[0;34m\u001b[0m\u001b[0m\n\u001b[0m\u001b[1;32m      2\u001b[0m     \u001b[0;32mpass\u001b[0m\u001b[0;34m\u001b[0m\u001b[0m\n",
      "\u001b[0;31mAttributeError\u001b[0m: __enter__"
     ]
    }
   ],
   "source": [
    "with JavaGateway(gateway_parameters=GatewayParameters(port=launch_gateway(classpath='jvm/libs/*:jvm'))) as gateway:\n",
    "    pass\n"
   ]
  },
  {
   "cell_type": "code",
   "execution_count": 5,
   "metadata": {},
   "outputs": [
    {
     "data": {
      "text/plain": [
       "<py4j.java_gateway.JavaGateway at 0x7ffb100cbd68>"
      ]
     },
     "execution_count": 5,
     "metadata": {},
     "output_type": "execute_result"
    }
   ],
   "source": [
    "JavaGateway(gateway_parameters=GatewayParameters(port=port))"
   ]
  },
  {
   "cell_type": "code",
   "execution_count": 4,
   "metadata": {},
   "outputs": [],
   "source": [
    "# 调用java随机数\n",
    "LfasrClientImp = gateway.jvm.com.iflytek.msp.cpdb.lfasr.client.LfasrClientImp\n",
    "lc = LfasrClientImp.initLfasrClient()"
   ]
  },
  {
   "cell_type": "code",
   "execution_count": 5,
   "metadata": {},
   "outputs": [],
   "source": [
    "LfasrType = gateway.jvm.com.iflytek.msp.cpdb.lfasr.model.LfasrType"
   ]
  },
  {
   "cell_type": "code",
   "execution_count": 6,
   "metadata": {},
   "outputs": [],
   "source": [
    "params = gateway.jvm.java.util.HashMap()\n",
    "params['has_participle'] = 'true'"
   ]
  },
  {
   "cell_type": "code",
   "execution_count": 7,
   "metadata": {},
   "outputs": [],
   "source": [
    "upload_result = lc.lfasrUpload('test.wav', LfasrType.LFASR_STANDARD_RECORDED_AUDIO, params)\n",
    "# upload_result = lc.lfasrUpload('test.wav', LfasrType.LFASR_TELEPHONY_RECORDED_AUDIO, params)"
   ]
  },
  {
   "cell_type": "code",
   "execution_count": 8,
   "metadata": {},
   "outputs": [
    {
     "data": {
      "text/plain": [
       "0"
      ]
     },
     "execution_count": 8,
     "metadata": {},
     "output_type": "execute_result"
    }
   ],
   "source": [
    "upload_result.getOk()"
   ]
  },
  {
   "cell_type": "code",
   "execution_count": 9,
   "metadata": {},
   "outputs": [
    {
     "data": {
      "text/plain": [
       "'90e58449169b4448bad65e7747cfe99b'"
      ]
     },
     "execution_count": 9,
     "metadata": {},
     "output_type": "execute_result"
    }
   ],
   "source": [
    "task_id = upload_result.getData()\n",
    "task_id"
   ]
  },
  {
   "cell_type": "code",
   "execution_count": 15,
   "metadata": {},
   "outputs": [],
   "source": [
    "progress_result = lc.lfasrGetProgress(task_id)"
   ]
  },
  {
   "cell_type": "code",
   "execution_count": 16,
   "metadata": {},
   "outputs": [
    {
     "data": {
      "text/plain": [
       "0"
      ]
     },
     "execution_count": 16,
     "metadata": {},
     "output_type": "execute_result"
    }
   ],
   "source": [
    "progress_result.getOk()"
   ]
  },
  {
   "cell_type": "code",
   "execution_count": 17,
   "metadata": {},
   "outputs": [
    {
     "name": "stdout",
     "output_type": "stream",
     "text": [
      "0\n",
      "None\n"
     ]
    }
   ],
   "source": [
    "print(progress_result.getErr_no())\n",
    "print(progress_result.getFailed())"
   ]
  },
  {
   "cell_type": "code",
   "execution_count": 18,
   "metadata": {},
   "outputs": [
    {
     "name": "stdout",
     "output_type": "stream",
     "text": [
      "{\"desc\":\"结果上传云存储完成\",\"status\":9}\n"
     ]
    }
   ],
   "source": [
    "print(progress_result.getData())"
   ]
  },
  {
   "cell_type": "code",
   "execution_count": 19,
   "metadata": {},
   "outputs": [],
   "source": [
    "result = lc.lfasrGetResult(task_id)"
   ]
  },
  {
   "cell_type": "code",
   "execution_count": 20,
   "metadata": {},
   "outputs": [
    {
     "data": {
      "text/plain": [
       "0"
      ]
     },
     "execution_count": 20,
     "metadata": {},
     "output_type": "execute_result"
    }
   ],
   "source": [
    "result.getOk()"
   ]
  },
  {
   "cell_type": "code",
   "execution_count": 21,
   "metadata": {},
   "outputs": [
    {
     "name": "stdout",
     "output_type": "stream",
     "text": [
      "0\n",
      "None\n"
     ]
    }
   ],
   "source": [
    "print(result.getErr_no())\n",
    "print(result.getFailed())"
   ]
  },
  {
   "cell_type": "code",
   "execution_count": 22,
   "metadata": {},
   "outputs": [
    {
     "name": "stdout",
     "output_type": "stream",
     "text": [
      "[{\"bg\":\"1310\",\"ed\":\"2330\",\"nc\":\"1.0\",\"onebest\":\"为\",\"si\":\"0\",\"speaker\":\"0\",\"wordsResultList\":[{\"alternativeList\":[],\"wc\":\"0.9730\",\"wordBg\":\"28\",\"wordEd\":\"80\",\"wordsName\":\"为\",\"wp\":\"n\"}]},{\"bg\":\"2640\",\"ed\":\"6700\",\"nc\":\"1.0\",\"onebest\":\"唉你好唉你好，我这边中国电信客户经理小闹\",\"si\":\"1\",\"speaker\":\"0\",\"wordsResultList\":[{\"alternativeList\":[],\"wc\":\"1.0000\",\"wordBg\":\"27\",\"wordEd\":\"56\",\"wordsName\":\"唉\",\"wp\":\"s\"},{\"alternativeList\":[],\"wc\":\"1.0000\",\"wordBg\":\"56\",\"wordEd\":\"100\",\"wordsName\":\"你好\",\"wp\":\"s\"},{\"alternativeList\":[],\"wc\":\"1.0000\",\"wordBg\":\"100\",\"wordEd\":\"118\",\"wordsName\":\"唉\",\"wp\":\"s\"},{\"alternativeList\":[],\"wc\":\"0.9998\",\"wordBg\":\"118\",\"wordEd\":\"166\",\"wordsName\":\"你好\",\"wp\":\"n\"},{\"alternativeList\":[],\"wc\":\"0.0000\",\"wordBg\":\"166\",\"wordEd\":\"166\",\"wordsName\":\"，\",\"wp\":\"p\"},{\"alternativeList\":[],\"wc\":\"1.0000\",\"wordBg\":\"166\",\"wordEd\":\"178\",\"wordsName\":\"我\",\"wp\":\"n\"},{\"alternativeList\":[],\"wc\":\"1.0000\",\"wordBg\":\"178\",\"wordEd\":\"206\",\"wordsName\":\"这边\",\"wp\":\"n\"},{\"alternativeList\":[],\"wc\":\"1.0000\",\"wordBg\":\"206\",\"wordEd\":\"230\",\"wordsName\":\"中国\",\"wp\":\"n\"},{\"alternativeList\":[],\"wc\":\"1.0000\",\"wordBg\":\"230\",\"wordEd\":\"264\",\"wordsName\":\"电信\",\"wp\":\"n\"},{\"alternativeList\":[],\"wc\":\"1.0000\",\"wordBg\":\"264\",\"wordEd\":\"286\",\"wordsName\":\"客户\",\"wp\":\"n\"},{\"alternativeList\":[],\"wc\":\"1.0000\",\"wordBg\":\"286\",\"wordEd\":\"312\",\"wordsName\":\"经理\",\"wp\":\"n\"},{\"alternativeList\":[],\"wc\":\"0.5425\",\"wordBg\":\"312\",\"wordEd\":\"330\",\"wordsName\":\"小\",\"wp\":\"n\"},{\"alternativeList\":[],\"wc\":\"0.5249\",\"wordBg\":\"330\",\"wordEd\":\"380\",\"wordsName\":\"闹\",\"wp\":\"n\"}]},{\"bg\":\"6720\",\"ed\":\"18420\",\"nc\":\"1.0\",\"onebest\":\"那跟你讲一下，就是我们电信现在在提速降费那，你这个号码是下个月开始从500分钟提高到600分钟，然后流量从一具体要到三句，那流量费用还是你原来的费用\",\"si\":\"2\",\"speaker\":\"0\",\"wordsResultList\":[{\"alternativeList\":[],\"wc\":\"0.5393\",\"wordBg\":\"32\",\"wordEd\":\"60\",\"wordsName\":\"那\",\"wp\":\"n\"},{\"alternativeList\":[],\"wc\":\"0.9827\",\"wordBg\":\"60\",\"wordEd\":\"78\",\"wordsName\":\"跟\",\"wp\":\"n\"},{\"alternativeList\":[],\"wc\":\"0.9993\",\"wordBg\":\"78\",\"wordEd\":\"96\",\"wordsName\":\"你\",\"wp\":\"n\"},{\"alternativeList\":[],\"wc\":\"1.0000\",\"wordBg\":\"96\",\"wordEd\":\"114\",\"wordsName\":\"讲\",\"wp\":\"n\"},{\"alternativeList\":[],\"wc\":\"1.0000\",\"wordBg\":\"114\",\"wordEd\":\"134\",\"wordsName\":\"一下\",\"wp\":\"n\"},{\"alternativeList\":[],\"wc\":\"0.0000\",\"wordBg\":\"134\",\"wordEd\":\"134\",\"wordsName\":\"，\",\"wp\":\"p\"},{\"alternativeList\":[],\"wc\":\"1.0000\",\"wordBg\":\"134\",\"wordEd\":\"154\",\"wordsName\":\"就是\",\"wp\":\"n\"},{\"alternativeList\":[],\"wc\":\"1.0000\",\"wordBg\":\"154\",\"wordEd\":\"176\",\"wordsName\":\"我们\",\"wp\":\"n\"},{\"alternativeList\":[],\"wc\":\"1.0000\",\"wordBg\":\"176\",\"wordEd\":\"208\",\"wordsName\":\"电信\",\"wp\":\"n\"},{\"alternativeList\":[],\"wc\":\"1.0000\",\"wordBg\":\"208\",\"wordEd\":\"232\",\"wordsName\":\"现在\",\"wp\":\"n\"},{\"alternativeList\":[],\"wc\":\"0.7352\",\"wordBg\":\"232\",\"wordEd\":\"248\",\"wordsName\":\"在\",\"wp\":\"n\"},{\"alternativeList\":[],\"wc\":\"0.8146\",\"wordBg\":\"248\",\"wordEd\":\"268\",\"wordsName\":\"提\",\"wp\":\"n\"},{\"alternativeList\":[],\"wc\":\"0.8146\",\"wordBg\":\"268\",\"wordEd\":\"304\",\"wordsName\":\"速降\",\"wp\":\"n\"},{\"alternativeList\":[],\"wc\":\"1.0000\",\"wordBg\":\"304\",\"wordEd\":\"333\",\"wordsName\":\"费\",\"wp\":\"n\"},{\"alternativeList\":[],\"wc\":\"1.0000\",\"wordBg\":\"333\",\"wordEd\":\"352\",\"wordsName\":\"那\",\"wp\":\"n\"},{\"alternativeList\":[],\"wc\":\"0.0000\",\"wordBg\":\"352\",\"wordEd\":\"352\",\"wordsName\":\"，\",\"wp\":\"p\"},{\"alternativeList\":[],\"wc\":\"1.0000\",\"wordBg\":\"352\",\"wordEd\":\"366\",\"wordsName\":\"你\",\"wp\":\"n\"},{\"alternativeList\":[],\"wc\":\"1.0000\",\"wordBg\":\"366\",\"wordEd\":\"386\",\"wordsName\":\"这个\",\"wp\":\"n\"},{\"alternativeList\":[],\"wc\":\"1.0000\",\"wordBg\":\"386\",\"wordEd\":\"422\",\"wordsName\":\"号码\",\"wp\":\"n\"},{\"alternativeList\":[],\"wc\":\"1.0000\",\"wordBg\":\"422\",\"wordEd\":\"469\",\"wordsName\":\"是\",\"wp\":\"n\"},{\"alternativeList\":[],\"wc\":\"1.0000\",\"wordBg\":\"469\",\"wordEd\":\"498\",\"wordsName\":\"下\",\"wp\":\"n\"},{\"alternativeList\":[],\"wc\":\"1.0000\",\"wordBg\":\"498\",\"wordEd\":\"508\",\"wordsName\":\"个\",\"wp\":\"n\"},{\"alternativeList\":[],\"wc\":\"1.0000\",\"wordBg\":\"508\",\"wordEd\":\"516\",\"wordsName\":\"月\",\"wp\":\"n\"},{\"alternativeList\":[],\"wc\":\"1.0000\",\"wordBg\":\"516\",\"wordEd\":\"540\",\"wordsName\":\"开始\",\"wp\":\"n\"},{\"alternativeList\":[],\"wc\":\"1.0000\",\"wordBg\":\"540\",\"wordEd\":\"568\",\"wordsName\":\"从\",\"wp\":\"n\"},{\"alternativeList\":[],\"wc\":\"1.0000\",\"wordBg\":\"568\",\"wordEd\":\"590\",\"wordsName\":\"500\",\"wp\":\"n\"},{\"alternativeList\":[],\"wc\":\"1.0000\",\"wordBg\":\"590\",\"wordEd\":\"620\",\"wordsName\":\"分钟\",\"wp\":\"n\"},{\"alternativeList\":[],\"wc\":\"1.0000\",\"wordBg\":\"620\",\"wordEd\":\"646\",\"wordsName\":\"提高\",\"wp\":\"n\"},{\"alternativeList\":[],\"wc\":\"1.0000\",\"wordBg\":\"646\",\"wordEd\":\"658\",\"wordsName\":\"到\",\"wp\":\"n\"},{\"alternativeList\":[],\"wc\":\"1.0000\",\"wordBg\":\"658\",\"wordEd\":\"682\",\"wordsName\":\"600\",\"wp\":\"n\"},{\"alternativeList\":[],\"wc\":\"1.0000\",\"wordBg\":\"682\",\"wordEd\":\"751\",\"wordsName\":\"分钟\",\"wp\":\"n\"},{\"alternativeList\":[],\"wc\":\"0.0000\",\"wordBg\":\"751\",\"wordEd\":\"751\",\"wordsName\":\"，\",\"wp\":\"p\"},{\"alternativeList\":[],\"wc\":\"1.0000\",\"wordBg\":\"751\",\"wordEd\":\"774\",\"wordsName\":\"然后\",\"wp\":\"n\"},{\"alternativeList\":[],\"wc\":\"0.9886\",\"wordBg\":\"774\",\"wordEd\":\"802\",\"wordsName\":\"流量\",\"wp\":\"n\"},{\"alternativeList\":[],\"wc\":\"0.9829\",\"wordBg\":\"802\",\"wordEd\":\"820\",\"wordsName\":\"从\",\"wp\":\"n\"},{\"alternativeList\":[],\"wc\":\"0.9460\",\"wordBg\":\"820\",\"wordEd\":\"826\",\"wordsName\":\"一\",\"wp\":\"n\"},{\"alternativeList\":[],\"wc\":\"0.9586\",\"wordBg\":\"826\",\"wordEd\":\"854\",\"wordsName\":\"具体\",\"wp\":\"n\"},{\"alternativeList\":[],\"wc\":\"0.9586\",\"wordBg\":\"854\",\"wordEd\":\"884\",\"wordsName\":\"要到\",\"wp\":\"n\"},{\"alternativeList\":[],\"wc\":\"1.0000\",\"wordBg\":\"884\",\"wordEd\":\"908\",\"wordsName\":\"三\",\"wp\":\"n\"},{\"alternativeList\":[],\"wc\":\"0.9995\",\"wordBg\":\"908\",\"wordEd\":\"956\",\"wordsName\":\"句\",\"wp\":\"n\"},{\"alternativeList\":[],\"wc\":\"0.0000\",\"wordBg\":\"956\",\"wordEd\":\"956\",\"wordsName\":\"，\",\"wp\":\"p\"},{\"alternativeList\":[],\"wc\":\"0.9999\",\"wordBg\":\"956\",\"wordEd\":\"972\",\"wordsName\":\"那\",\"wp\":\"n\"},{\"alternativeList\":[],\"wc\":\"1.0000\",\"wordBg\":\"972\",\"wordEd\":\"1006\",\"wordsName\":\"流量\",\"wp\":\"n\"},{\"alternativeList\":[],\"wc\":\"1.0000\",\"wordBg\":\"1006\",\"wordEd\":\"1032\",\"wordsName\":\"费用\",\"wp\":\"n\"},{\"alternativeList\":[],\"wc\":\"1.0000\",\"wordBg\":\"1032\",\"wordEd\":\"1054\",\"wordsName\":\"还是\",\"wp\":\"n\"},{\"alternativeList\":[],\"wc\":\"0.7202\",\"wordBg\":\"1054\",\"wordEd\":\"1064\",\"wordsName\":\"你\",\"wp\":\"n\"},{\"alternativeList\":[],\"wc\":\"0.9963\",\"wordBg\":\"1064\",\"wordEd\":\"1092\",\"wordsName\":\"原来\",\"wp\":\"n\"},{\"alternativeList\":[],\"wc\":\"1.0000\",\"wordBg\":\"1092\",\"wordEd\":\"1104\",\"wordsName\":\"的\",\"wp\":\"n\"},{\"alternativeList\":[],\"wc\":\"1.0000\",\"wordBg\":\"1104\",\"wordEd\":\"1154\",\"wordsName\":\"费用\",\"wp\":\"n\"}]},{\"bg\":\"18480\",\"ed\":\"23520\",\"nc\":\"1.0\",\"onebest\":\"噢这么好对，我们就是在提速降费掉，他正在升级吗？\",\"si\":\"3\",\"speaker\":\"0\",\"wordsResultList\":[{\"alternativeList\":[],\"wc\":\"0.7703\",\"wordBg\":\"13\",\"wordEd\":\"133\",\"wordsName\":\"噢\",\"wp\":\"s\"},{\"alternativeList\":[],\"wc\":\"0.9949\",\"wordBg\":\"133\",\"wordEd\":\"158\",\"wordsName\":\"这么\",\"wp\":\"n\"},{\"alternativeList\":[],\"wc\":\"1.0000\",\"wordBg\":\"158\",\"wordEd\":\"190\",\"wordsName\":\"好\",\"wp\":\"n\"},{\"alternativeList\":[],\"wc\":\"1.0000\",\"wordBg\":\"190\",\"wordEd\":\"239\",\"wordsName\":\"对\",\"wp\":\"n\"},{\"alternativeList\":[],\"wc\":\"0.0000\",\"wordBg\":\"239\",\"wordEd\":\"239\",\"wordsName\":\"，\",\"wp\":\"p\"},{\"alternativeList\":[],\"wc\":\"1.0000\",\"wordBg\":\"239\",\"wordEd\":\"263\",\"wordsName\":\"我们\",\"wp\":\"n\"},{\"alternativeList\":[],\"wc\":\"0.9942\",\"wordBg\":\"263\",\"wordEd\":\"294\",\"wordsName\":\"就是\",\"wp\":\"n\"},{\"alternativeList\":[],\"wc\":\"0.9792\",\"wordBg\":\"294\",\"wordEd\":\"310\",\"wordsName\":\"在\",\"wp\":\"n\"},{\"alternativeList\":[],\"wc\":\"0.4120\",\"wordBg\":\"310\",\"wordEd\":\"336\",\"wordsName\":\"提速\",\"wp\":\"n\"},{\"alternativeList\":[],\"wc\":\"0.4120\",\"wordBg\":\"336\",\"wordEd\":\"354\",\"wordsName\":\"降\",\"wp\":\"n\"},{\"alternativeList\":[],\"wc\":\"0.7209\",\"wordBg\":\"354\",\"wordEd\":\"367\",\"wordsName\":\"费\",\"wp\":\"n\"},{\"alternativeList\":[],\"wc\":\"0.8107\",\"wordBg\":\"367\",\"wordEd\":\"382\",\"wordsName\":\"掉\",\"wp\":\"n\"},{\"alternativeList\":[],\"wc\":\"0.0000\",\"wordBg\":\"382\",\"wordEd\":\"382\",\"wordsName\":\"，\",\"wp\":\"p\"},{\"alternativeList\":[],\"wc\":\"0.6934\",\"wordBg\":\"382\",\"wordEd\":\"398\",\"wordsName\":\"他\",\"wp\":\"n\"},{\"alternativeList\":[],\"wc\":\"0.7178\",\"wordBg\":\"398\",\"wordEd\":\"422\",\"wordsName\":\"正在\",\"wp\":\"n\"},{\"alternativeList\":[],\"wc\":\"1.0000\",\"wordBg\":\"422\",\"wordEd\":\"456\",\"wordsName\":\"升级\",\"wp\":\"n\"},{\"alternativeList\":[],\"wc\":\"0.7646\",\"wordBg\":\"456\",\"wordEd\":\"476\",\"wordsName\":\"吗\",\"wp\":\"n\"},{\"alternativeList\":[],\"wc\":\"0.0000\",\"wordBg\":\"476\",\"wordEd\":\"476\",\"wordsName\":\"？\",\"wp\":\"p\"}]},{\"bg\":\"23570\",\"ed\":\"27330\",\"nc\":\"1.0\",\"onebest\":\"噢谢谢谢谢囡下个月开始生效哈\",\"si\":\"4\",\"speaker\":\"0\",\"wordsResultList\":[{\"alternativeList\":[],\"wc\":\"0.7213\",\"wordBg\":\"5\",\"wordEd\":\"68\",\"wordsName\":\"噢\",\"wp\":\"s\"},{\"alternativeList\":[],\"wc\":\"1.0000\",\"wordBg\":\"68\",\"wordEd\":\"108\",\"wordsName\":\"谢谢\",\"wp\":\"s\"},{\"alternativeList\":[],\"wc\":\"0.6837\",\"wordBg\":\"108\",\"wordEd\":\"159\",\"wordsName\":\"谢谢\",\"wp\":\"n\"},{\"alternativeList\":[],\"wc\":\"0.8668\",\"wordBg\":\"159\",\"wordEd\":\"242\",\"wordsName\":\"囡\",\"wp\":\"n\"},{\"alternativeList\":[],\"wc\":\"0.5549\",\"wordBg\":\"242\",\"wordEd\":\"254\",\"wordsName\":\"下\",\"wp\":\"n\"},{\"alternativeList\":[],\"wc\":\"0.9999\",\"wordBg\":\"254\",\"wordEd\":\"262\",\"wordsName\":\"个\",\"wp\":\"n\"},{\"alternativeList\":[],\"wc\":\"0.9999\",\"wordBg\":\"262\",\"wordEd\":\"272\",\"wordsName\":\"月\",\"wp\":\"n\"},{\"alternativeList\":[],\"wc\":\"1.0000\",\"wordBg\":\"272\",\"wordEd\":\"294\",\"wordsName\":\"开始\",\"wp\":\"n\"},{\"alternativeList\":[],\"wc\":\"1.0000\",\"wordBg\":\"294\",\"wordEd\":\"328\",\"wordsName\":\"生效\",\"wp\":\"n\"},{\"alternativeList\":[],\"wc\":\"1.0000\",\"wordBg\":\"328\",\"wordEd\":\"370\",\"wordsName\":\"哈\",\"wp\":\"s\"}]},{\"bg\":\"27350\",\"ed\":\"31240\",\"nc\":\"1.0\",\"onebest\":\"唉好谢谢，好再见，嗯好好好好。\",\"si\":\"5\",\"speaker\":\"0\",\"wordsResultList\":[{\"alternativeList\":[],\"wc\":\"1.0000\",\"wordBg\":\"21\",\"wordEd\":\"54\",\"wordsName\":\"唉\",\"wp\":\"s\"},{\"alternativeList\":[],\"wc\":\"0.9645\",\"wordBg\":\"54\",\"wordEd\":\"78\",\"wordsName\":\"好\",\"wp\":\"n\"},{\"alternativeList\":[],\"wc\":\"1.0000\",\"wordBg\":\"78\",\"wordEd\":\"166\",\"wordsName\":\"谢谢\",\"wp\":\"n\"},{\"alternativeList\":[],\"wc\":\"0.0000\",\"wordBg\":\"166\",\"wordEd\":\"166\",\"wordsName\":\"，\",\"wp\":\"p\"},{\"alternativeList\":[],\"wc\":\"0.6708\",\"wordBg\":\"166\",\"wordEd\":\"182\",\"wordsName\":\"好\",\"wp\":\"n\"},{\"alternativeList\":[],\"wc\":\"1.0000\",\"wordBg\":\"182\",\"wordEd\":\"241\",\"wordsName\":\"再见\",\"wp\":\"n\"},{\"alternativeList\":[],\"wc\":\"0.0000\",\"wordBg\":\"241\",\"wordEd\":\"241\",\"wordsName\":\"，\",\"wp\":\"p\"},{\"alternativeList\":[],\"wc\":\"1.0000\",\"wordBg\":\"241\",\"wordEd\":\"272\",\"wordsName\":\"嗯\",\"wp\":\"s\"},{\"alternativeList\":[],\"wc\":\"0.9991\",\"wordBg\":\"272\",\"wordEd\":\"312\",\"wordsName\":\"好好\",\"wp\":\"s\"},{\"alternativeList\":[],\"wc\":\"1.0000\",\"wordBg\":\"312\",\"wordEd\":\"366\",\"wordsName\":\"好好\",\"wp\":\"n\"},{\"alternativeList\":[],\"wc\":\"0.0000\",\"wordBg\":\"366\",\"wordEd\":\"366\",\"wordsName\":\"。\",\"wp\":\"p\"},{\"alternativeList\":[],\"wc\":\"0.0000\",\"wordBg\":\"366\",\"wordEd\":\"366\",\"wordsName\":\"\",\"wp\":\"g\"}]}]\n"
     ]
    }
   ],
   "source": [
    "data = result.getData()\n",
    "print(data)"
   ]
  },
  {
   "cell_type": "code",
   "execution_count": 23,
   "metadata": {},
   "outputs": [],
   "source": [
    "data = json.loads(data)"
   ]
  },
  {
   "cell_type": "code",
   "execution_count": 24,
   "metadata": {},
   "outputs": [
    {
     "name": "stdout",
     "output_type": "stream",
     "text": [
      "{'bg': '1310', 'ed': '2330', 'nc': '1.0', 'onebest': '为', 'si': '0', 'speaker': '0', 'wordsResultList': [{'alternativeList': [], 'wc': '0.9730', 'wordBg': '28', 'wordEd': '80', 'wordsName': '为', 'wp': 'n'}]}\n"
     ]
    }
   ],
   "source": [
    "print(data[0])"
   ]
  },
  {
   "cell_type": "code",
   "execution_count": 25,
   "metadata": {},
   "outputs": [
    {
     "name": "stdout",
     "output_type": "stream",
     "text": [
      "{'bg': '1310', 'ed': '2330', 'nc': '1.0', 'onebest': '为', 'si': '0', 'speaker': '0', 'wordsResultList': [{'alternativeList': [], 'wc': '0.9730', 'wordBg': '28', 'wordEd': '80', 'wordsName': '为', 'wp': 'n'}]}\n"
     ]
    }
   ],
   "source": [
    "print(data[0])"
   ]
  },
  {
   "cell_type": "code",
   "execution_count": 28,
   "metadata": {},
   "outputs": [
    {
     "data": {
      "text/plain": [
       "{u'bg': u'2640',\n",
       " u'ed': u'6700',\n",
       " u'nc': u'1.0',\n",
       " u'onebest': u'\\u5509\\u4f60\\u597d\\u5509\\u4f60\\u597d\\uff0c\\u6211\\u8fd9\\u8fb9\\u4e2d\\u56fd\\u7535\\u4fe1\\u5ba2\\u6237\\u7ecf\\u7406\\u5c0f\\u95f9',\n",
       " u'si': u'1',\n",
       " u'speaker': u'0',\n",
       " u'wordsResultList': [{u'alternativeList': [],\n",
       "   u'wc': u'1.0000',\n",
       "   u'wordBg': u'27',\n",
       "   u'wordEd': u'56',\n",
       "   u'wordsName': u'\\u5509',\n",
       "   u'wp': u's'},\n",
       "  {u'alternativeList': [],\n",
       "   u'wc': u'1.0000',\n",
       "   u'wordBg': u'56',\n",
       "   u'wordEd': u'100',\n",
       "   u'wordsName': u'\\u4f60\\u597d',\n",
       "   u'wp': u's'},\n",
       "  {u'alternativeList': [],\n",
       "   u'wc': u'1.0000',\n",
       "   u'wordBg': u'100',\n",
       "   u'wordEd': u'118',\n",
       "   u'wordsName': u'\\u5509',\n",
       "   u'wp': u's'},\n",
       "  {u'alternativeList': [],\n",
       "   u'wc': u'0.9998',\n",
       "   u'wordBg': u'118',\n",
       "   u'wordEd': u'166',\n",
       "   u'wordsName': u'\\u4f60\\u597d',\n",
       "   u'wp': u'n'},\n",
       "  {u'alternativeList': [],\n",
       "   u'wc': u'0.0000',\n",
       "   u'wordBg': u'166',\n",
       "   u'wordEd': u'166',\n",
       "   u'wordsName': u'\\uff0c',\n",
       "   u'wp': u'p'},\n",
       "  {u'alternativeList': [],\n",
       "   u'wc': u'1.0000',\n",
       "   u'wordBg': u'166',\n",
       "   u'wordEd': u'178',\n",
       "   u'wordsName': u'\\u6211',\n",
       "   u'wp': u'n'},\n",
       "  {u'alternativeList': [],\n",
       "   u'wc': u'1.0000',\n",
       "   u'wordBg': u'178',\n",
       "   u'wordEd': u'206',\n",
       "   u'wordsName': u'\\u8fd9\\u8fb9',\n",
       "   u'wp': u'n'},\n",
       "  {u'alternativeList': [],\n",
       "   u'wc': u'1.0000',\n",
       "   u'wordBg': u'206',\n",
       "   u'wordEd': u'230',\n",
       "   u'wordsName': u'\\u4e2d\\u56fd',\n",
       "   u'wp': u'n'},\n",
       "  {u'alternativeList': [],\n",
       "   u'wc': u'1.0000',\n",
       "   u'wordBg': u'230',\n",
       "   u'wordEd': u'264',\n",
       "   u'wordsName': u'\\u7535\\u4fe1',\n",
       "   u'wp': u'n'},\n",
       "  {u'alternativeList': [],\n",
       "   u'wc': u'1.0000',\n",
       "   u'wordBg': u'264',\n",
       "   u'wordEd': u'286',\n",
       "   u'wordsName': u'\\u5ba2\\u6237',\n",
       "   u'wp': u'n'},\n",
       "  {u'alternativeList': [],\n",
       "   u'wc': u'1.0000',\n",
       "   u'wordBg': u'286',\n",
       "   u'wordEd': u'312',\n",
       "   u'wordsName': u'\\u7ecf\\u7406',\n",
       "   u'wp': u'n'},\n",
       "  {u'alternativeList': [],\n",
       "   u'wc': u'0.7079',\n",
       "   u'wordBg': u'312',\n",
       "   u'wordEd': u'331',\n",
       "   u'wordsName': u'\\u5c0f',\n",
       "   u'wp': u'n'},\n",
       "  {u'alternativeList': [],\n",
       "   u'wc': u'0.7023',\n",
       "   u'wordBg': u'331',\n",
       "   u'wordEd': u'380',\n",
       "   u'wordsName': u'\\u95f9',\n",
       "   u'wp': u'n'}]}"
      ]
     },
     "execution_count": 28,
     "metadata": {},
     "output_type": "execute_result"
    }
   ],
   "source": [
    "data[1]"
   ]
  },
  {
   "cell_type": "code",
   "execution_count": 27,
   "metadata": {
    "scrolled": false
   },
   "outputs": [
    {
     "name": "stdout",
     "output_type": "stream",
     "text": [
      "为\n",
      "唉你好唉你好，我这边中国电信客户经理小闹\n",
      "那跟你讲一下，就是我们电信现在在提速降费那，你这个号码是下个月开始从500分钟提高到600分钟，然后流量从一具体要到三句，那流量费用还是你原来的费用\n",
      "噢这么好对，我们就是在提速降费掉，他正在升级吗？\n",
      "噢谢谢谢谢囡下个月开始生效哈\n",
      "唉好谢谢，好再见，嗯好好好好。\n"
     ]
    }
   ],
   "source": [
    "for i in data:\n",
    "    print(i['onebest'])"
   ]
  },
  {
   "cell_type": "code",
   "execution_count": 28,
   "metadata": {},
   "outputs": [
    {
     "name": "stdout",
     "output_type": "stream",
     "text": [
      "0\n",
      "0\n",
      "0\n",
      "0\n",
      "0\n",
      "0\n"
     ]
    }
   ],
   "source": [
    "for i in data:\n",
    "    print(i['speaker'])"
   ]
  }
 ],
 "metadata": {
  "kernelspec": {
   "display_name": "Python 3",
   "language": "python",
   "name": "python3"
  },
  "language_info": {
   "codemirror_mode": {
    "name": "ipython",
    "version": 3
   },
   "file_extension": ".py",
   "mimetype": "text/x-python",
   "name": "python",
   "nbconvert_exporter": "python",
   "pygments_lexer": "ipython3",
   "version": "3.6.6"
  }
 },
 "nbformat": 4,
 "nbformat_minor": 2
}
