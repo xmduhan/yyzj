{
 "cells": [
  {
   "cell_type": "code",
   "execution_count": 36,
   "metadata": {},
   "outputs": [],
   "source": [
    "import json\n",
    "from collections import OrderedDict\n",
    "import environment\n",
    "import pandas as pd\n",
    "from django.db.models import Q"
   ]
  },
  {
   "cell_type": "code",
   "execution_count": 18,
   "metadata": {},
   "outputs": [],
   "source": []
  },
  {
   "cell_type": "code",
   "execution_count": 20,
   "metadata": {},
   "outputs": [],
   "source": [
    "from db import models"
   ]
  },
  {
   "cell_type": "code",
   "execution_count": 5,
   "metadata": {},
   "outputs": [],
   "source": [
    "for batch_model in models.BatchModel.objects.filter(state='processing'):\n",
    "    qs = batch_model.batchitemmodel_set.filter(~Q(lfasr__step='finish'))\n",
    "    if len(qs) == 0:\n"
   ]
  },
  {
   "cell_type": "code",
   "execution_count": 47,
   "metadata": {},
   "outputs": [],
   "source": [
    "data_list = []\n",
    "for item_model in batch_model.batchitemmodel_set.all():\n",
    "    lfasr = json.loads(item_model.lfasr.data)\n",
    "    data = OrderedDict()\n",
    "    data['filename'] = data\n",
    "    data['lfasr'] = ','.join([seg['onebest'] for seg in lfasr])            \n",
    "    data_list.append(data_list)"
   ]
  },
  {
   "cell_type": "code",
   "execution_count": null,
   "metadata": {},
   "outputs": [],
   "source": []
  }
 ],
 "metadata": {
  "kernelspec": {
   "display_name": "Python 3",
   "language": "python",
   "name": "python3"
  }
 },
 "nbformat": 4,
 "nbformat_minor": 2
}
